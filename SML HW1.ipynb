{
 "cells": [
  {
   "cell_type": "code",
   "execution_count": 3,
   "id": "9634eb66-636b-44d2-b62c-3ee0641fb224",
   "metadata": {},
   "outputs": [],
   "source": [
    "# q5 a\n",
    "\n",
    "import numpy as np\n",
    "\n",
    "def read_data(path, header=True, Index = True): \n",
    "    # Setting the path of the file and the output df \n",
    "    file_path = path\n",
    "    lines = []\n",
    "    with open(file_path, 'r') as file:\n",
    "        i =0\n",
    "        # If header is present then ignore the first line \n",
    "        if header:\n",
    "            for line in file:\n",
    "                if i==0:\n",
    "                    values = line.strip().split(',')\n",
    "                    columns = values\n",
    "                    lines.append(values)\n",
    "                else:\n",
    "                    values = [int(x) for x in line.strip().split(',')] \n",
    "                    # print(values)\n",
    "                    lines.append(values)\n",
    "                i+=1\n",
    "        # if the header is not present, just take the data as it is \n",
    "        else:\n",
    "            for line in file:\n",
    "                values= (line.strip().split(','))\n",
    "                lines.append(values)\n",
    "    # Making it the numpy array\n",
    "    df = np.array(lines)\n",
    "    # Drop the index and only return the meaningful data\n",
    "    if Index:\n",
    "        df = df[:,1:]\n",
    "        return df\n",
    "    else:\n",
    "        return df"
   ]
  },
  {
   "cell_type": "code",
   "execution_count": 6,
   "id": "aa818bfe-ec83-4cc1-8435-6ddb7831e022",
   "metadata": {},
   "outputs": [],
   "source": [
    "# q5 b\n",
    "def hamming_distance(datapoint1, datapoint2):\n",
    "    distance = 0\n",
    "    # whereever there is a difference between the features, we add 1 to the distance \n",
    "    for i in range(len(datapoint1)):\n",
    "        if datapoint1[i] != datapoint2[i]:\n",
    "            distance += 1\n",
    "    \n",
    "    return distance"
   ]
  },
  {
   "cell_type": "code",
   "execution_count": 5,
   "id": "e4c4fb68-b238-46d7-9029-5edde2e08c6d",
   "metadata": {},
   "outputs": [],
   "source": [
    "# q5 c\n",
    "def KNN_predict (df, k, x_test):\n",
    "    # Removing the predicted class for processing the data\n",
    "    df_x = df[:,1:]\n",
    "    # Initializing the distance array\n",
    "    dist = []\n",
    "    for i in range(1, len(df_x)):\n",
    "        # Store the distance of the point from the training example\n",
    "        dist.append((-1 if int(df[i][0])== 0 else 1, hamming_distance(x_test, [int(x) for x in df_x[i]])))\n",
    "    # print(dist)\n",
    "    # Put the lowest distance first\n",
    "    dist.sort(key = lambda x: (x[1]))\n",
    "    # print(dist)\n",
    "    y_pred = 0\n",
    "    for i in range(k):\n",
    "          # Pick the kth closest point and take the vote\n",
    "          y_pred += dist[i][0]\n",
    "     \n",
    "    # Return the predicted value of the new point \n",
    "    return 0 if np.sign(y_pred) == -1 else 1\n",
    "    "
   ]
  },
  {
   "cell_type": "code",
   "execution_count": 8,
   "id": "1ee9cbb9-d46c-44b0-9863-acafe1747bd2",
   "metadata": {},
   "outputs": [
    {
     "name": "stdout",
     "output_type": "stream",
     "text": [
      "For K= 1, Index: 1 Prediction:  1\n",
      "For K= 3, Index: 1 Prediction:  1\n"
     ]
    }
   ],
   "source": [
    "# q5 d,e,f\n",
    "# Read the train and test data and predict the class from KNN predict \n",
    "df = read_data(\"./problem5.txt\")\n",
    "x_test = read_data(\"./problem5_newData.txt\")\n",
    "# For k = 1\n",
    "for i in range(1, len(x_test)):\n",
    "    point= [int(x) for x in x_test[i]]\n",
    "    print(\"For K= 1, Index:\", i, \"Prediction: \", KNN_predict (df, 1, point))\n",
    "# For k = 3\n",
    "for i in range (1, len (x_test)):\n",
    "    point= [int(x) for x in x_test[i]]\n",
    "    print(\"For K= 3, Index:\", i, \"Prediction: \", KNN_predict(df, 3, point))"
   ]
  },
  {
   "cell_type": "code",
   "execution_count": 10,
   "id": "95742245-fe0f-47c7-844a-2e84e28927aa",
   "metadata": {},
   "outputs": [
    {
     "name": "stdout",
     "output_type": "stream",
     "text": [
      "0.45914834739400945 0.9182958340544896\n",
      "0.8741854163060885 0.9182958340544896\n",
      "8.732063608985168e-07 0.9182958340544896\n",
      "0.9182958340544896 0.9182958340544896\n",
      "Information gain for Thread stump:  0.4591474866604801\n",
      "Information gain for Author stump:  0.044110417748401076\n",
      "Information gain for Length stump:  0.9182949608481287\n",
      "Information gain for Where stump:  0.0\n"
     ]
    }
   ],
   "source": [
    "# Q4\n",
    "import math as m\n",
    "def entropy(q):\n",
    "    return -(q* m.log2(q) + (1-q)*m.log2(1-q))\n",
    "\n",
    "def ig(n1,p1, n2,p2):\n",
    "    ini= entropy(2/6)\n",
    "    tot = n1+n2+p1+p2\n",
    "    new = ((n1+p1)/(tot))*entropy(p1/(n1+p1)) + ((n2+p2)/(tot))*entropy(p2/(n2+p2))\n",
    "    print(new, ini)\n",
    "    return ini - new\n",
    "\n",
    "thread = ig(1,2,3,0.0000001)\n",
    "Author = ig(3,1,1,1)\n",
    "Length = ig(4,0.0000001,0.0000001,2)\n",
    "Where = ig(2,1,2,1)\n",
    "\n",
    "print(\"Information gain for Thread stump: \", thread)\n",
    "print(\"Information gain for Author stump: \", Author)\n",
    "print(\"Information gain for Length stump: \", Length)\n",
    "print(\"Information gain for Where stump: \", Where)"
   ]
  }
 ],
 "metadata": {
  "kernelspec": {
   "display_name": "Python 3 (ipykernel)",
   "language": "python",
   "name": "python3"
  },
  "language_info": {
   "codemirror_mode": {
    "name": "ipython",
    "version": 3
   },
   "file_extension": ".py",
   "mimetype": "text/x-python",
   "name": "python",
   "nbconvert_exporter": "python",
   "pygments_lexer": "ipython3",
   "version": "3.11.4"
  }
 },
 "nbformat": 4,
 "nbformat_minor": 5
}
